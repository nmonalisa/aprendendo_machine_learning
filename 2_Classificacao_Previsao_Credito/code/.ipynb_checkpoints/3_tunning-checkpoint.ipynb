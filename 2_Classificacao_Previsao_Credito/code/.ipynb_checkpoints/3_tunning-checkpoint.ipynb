{
 "cells": [
  {
   "cell_type": "markdown",
   "id": "e4856807",
   "metadata": {},
   "source": [
    "### Tunning dos modelos"
   ]
  },
  {
   "cell_type": "markdown",
   "id": "273edf3e",
   "metadata": {},
   "source": [
    "Até aqui construímos os modelos usando apenas os valores padrão dos parâmetros de cada modelo (script modelos_básicos). Nesse script irei mudar a abordagem utilizada, trazendo mais complexidade para as análises com o objetivo de tentar aperfeiçoar a modelagem e obter melhores resultados. Para isso, irei trabalhar com o GridSearch, um método que permite testar os modelos com diferentes valores de parâmetros e obter aquele com a melhor performance. No caso, vamos vou assumir a métrica acurácia como a melhor indicadora de desempenho para o meu problema. Vamos lá:\n",
    "\n",
    "\n",
    "___"
   ]
  },
  {
   "cell_type": "code",
   "execution_count": 4,
   "id": "f8a5a794",
   "metadata": {},
   "outputs": [],
   "source": [
    "import pandas as pd\n",
    "import numpy as np\n",
    "import pickle as pickle\n",
    "from sklearn.model_selection import GridSearchCV\n",
    "from sklearn.tree import DecisionTreeClassifier\n",
    "from sklearn.ensemble import RandomForestClassifier\n",
    "from sklearn.neighbors import KNeighborsClassifier\n",
    "from sklearn.linear_model import LogisticRegression"
   ]
  },
  {
   "cell_type": "markdown",
   "id": "140fb23e",
   "metadata": {},
   "source": [
    "Primeiro passo: concatenar as bases que estão salvas separadamente em treino e teste:"
   ]
  },
  {
   "cell_type": "code",
   "execution_count": 5,
   "id": "76e96b5f",
   "metadata": {},
   "outputs": [],
   "source": [
    "with open(\"../data/credit.pkl\", \"rb\") as f:\n",
    "    X_credit_train, y_credit_train, X_credit_test, y_credit_test = pickle.load(f)"
   ]
  },
  {
   "cell_type": "code",
   "execution_count": 6,
   "id": "c5a9321f",
   "metadata": {},
   "outputs": [
    {
     "data": {
      "text/plain": [
       "((2000, 3), (2000,))"
      ]
     },
     "execution_count": 6,
     "metadata": {},
     "output_type": "execute_result"
    }
   ],
   "source": [
    "X_credit = np.concatenate((X_credit_train, X_credit_test), axis=0)\n",
    "y_credit = np.concatenate((y_credit_train,y_credit_test),axis=0)\n",
    "X_credit.shape, y_credit.shape"
   ]
  },
  {
   "cell_type": "markdown",
   "id": "2bce6ed8",
   "metadata": {},
   "source": [
    "### Tunning dos modelos"
   ]
  },
  {
   "cell_type": "markdown",
   "id": "208f3fec",
   "metadata": {},
   "source": [
    "Aplicando o GridSearch para encontrar os melhores parâmetros dos algoritmos (Árvore de Decisão, Random Forest, KNN e Regressão Logística). Não apliquei esta lógica ao algoritmo Naive-Bayes porque ele não possui parâmetros importantes a serem modificados."
   ]
  },
  {
   "cell_type": "code",
   "execution_count": 7,
   "id": "65265741",
   "metadata": {},
   "outputs": [],
   "source": [
    "# Função para retornar melhor modelo:\n",
    "def returnBestParams(model, params):\n",
    "    grid_search = GridSearchCV(estimator=model,param_grid=params)\n",
    "    grid_search.fit(X_credit,y_credit)\n",
    "    best_params = grid_search.best_params_\n",
    "    best_accuracy = grid_search.best_score_\n",
    "    return {\"Best params\": best_params, \"Best accuracy\": best_accuracy}"
   ]
  },
  {
   "cell_type": "markdown",
   "id": "5fe596ba",
   "metadata": {},
   "source": [
    "### Árvore de Decisão"
   ]
  },
  {
   "cell_type": "code",
   "execution_count": 8,
   "id": "0e112da6",
   "metadata": {},
   "outputs": [],
   "source": [
    "tree_decision = DecisionTreeClassifier()\n",
    "tree_params = {'criterion': ['gini', 'entropy'],\n",
    "              'splitter': ['best', 'random'],\n",
    "              'min_samples_split': [2, 5, 10],\n",
    "              'min_samples_leaf': [1, 5, 10]}"
   ]
  },
  {
   "cell_type": "code",
   "execution_count": 9,
   "id": "a0f1470e",
   "metadata": {},
   "outputs": [
    {
     "data": {
      "text/plain": [
       "{'Best params': {'criterion': 'gini',\n",
       "  'min_samples_leaf': 1,\n",
       "  'min_samples_split': 2,\n",
       "  'splitter': 'best'},\n",
       " 'Best accuracy': 0.9879999999999999}"
      ]
     },
     "execution_count": 9,
     "metadata": {},
     "output_type": "execute_result"
    }
   ],
   "source": [
    "returnBestParams(tree_decision, tree_params)"
   ]
  },
  {
   "cell_type": "markdown",
   "id": "c73b1849",
   "metadata": {},
   "source": [
    "### Random Forest"
   ]
  },
  {
   "cell_type": "code",
   "execution_count": 10,
   "id": "4c60ea69",
   "metadata": {},
   "outputs": [],
   "source": [
    "random_forest = RandomForestClassifier()\n",
    "random_forest_params = {'criterion': ['gini', 'entropy'],\n",
    "              'n_estimators': [10, 40, 100, 150],\n",
    "              'min_samples_split': [2, 5, 10],\n",
    "              'min_samples_leaf': [1, 5, 10]}"
   ]
  },
  {
   "cell_type": "code",
   "execution_count": 11,
   "id": "17ed249b",
   "metadata": {},
   "outputs": [
    {
     "data": {
      "text/plain": [
       "{'Best params': {'criterion': 'gini',\n",
       "  'min_samples_leaf': 1,\n",
       "  'min_samples_split': 5,\n",
       "  'n_estimators': 40},\n",
       " 'Best accuracy': 0.9860000000000001}"
      ]
     },
     "execution_count": 11,
     "metadata": {},
     "output_type": "execute_result"
    }
   ],
   "source": [
    "returnBestParams(random_forest, random_forest_params)"
   ]
  },
  {
   "cell_type": "markdown",
   "id": "224b2ea2",
   "metadata": {},
   "source": [
    "### KNN"
   ]
  },
  {
   "cell_type": "code",
   "execution_count": 12,
   "id": "a318e758",
   "metadata": {},
   "outputs": [],
   "source": [
    "knn = KNeighborsClassifier()\n",
    "knn_params = {'n_neighbors': [3, 5, 10, 20],\n",
    "              'p': [1, 2]}"
   ]
  },
  {
   "cell_type": "code",
   "execution_count": 13,
   "id": "43864942",
   "metadata": {},
   "outputs": [
    {
     "data": {
      "text/plain": [
       "{'Best params': {'n_neighbors': 10, 'p': 2},\n",
       " 'Best accuracy': 0.9804999999999999}"
      ]
     },
     "execution_count": 13,
     "metadata": {},
     "output_type": "execute_result"
    }
   ],
   "source": [
    "returnBestParams(knn, knn_params)"
   ]
  },
  {
   "cell_type": "markdown",
   "id": "5405ae96",
   "metadata": {},
   "source": [
    "### Regressão Logística"
   ]
  },
  {
   "cell_type": "code",
   "execution_count": 14,
   "id": "0d9a3164",
   "metadata": {},
   "outputs": [],
   "source": [
    "log_reg = LogisticRegression()\n",
    "log_reg_params = {'tol': [0.0001, 0.00001, 0.000001],\n",
    "              'C': [1.0, 1.5, 2.0],\n",
    "              'solver': ['lbfgs', 'sag', 'saga']}"
   ]
  },
  {
   "cell_type": "code",
   "execution_count": 15,
   "id": "aff26745",
   "metadata": {},
   "outputs": [
    {
     "data": {
      "text/plain": [
       "{'Best params': {'C': 2.0, 'solver': 'lbfgs', 'tol': 0.0001},\n",
       " 'Best accuracy': 0.9470000000000001}"
      ]
     },
     "execution_count": 15,
     "metadata": {},
     "output_type": "execute_result"
    }
   ],
   "source": [
    "returnBestParams(log_reg,log_reg_params)"
   ]
  },
  {
   "cell_type": "markdown",
   "id": "7115c480",
   "metadata": {},
   "source": [
    "### Próximos Passos"
   ]
  },
  {
   "cell_type": "markdown",
   "id": "e71c00a5",
   "metadata": {},
   "source": [
    "No próximo script (validação cruzada), irei realizar realizar a validação e análise dos modelos através da técnica validação cruzada, baseada em múltiplos treinos e testes. Isso nos ajudará a ter mais confiança sobre qual modelo tem um melhor desempenho."
   ]
  }
 ],
 "metadata": {
  "kernelspec": {
   "display_name": "Python 3",
   "language": "python",
   "name": "python3"
  },
  "language_info": {
   "codemirror_mode": {
    "name": "ipython",
    "version": 3
   },
   "file_extension": ".py",
   "mimetype": "text/x-python",
   "name": "python",
   "nbconvert_exporter": "python",
   "pygments_lexer": "ipython3",
   "version": "3.8.8"
  }
 },
 "nbformat": 4,
 "nbformat_minor": 5
}
