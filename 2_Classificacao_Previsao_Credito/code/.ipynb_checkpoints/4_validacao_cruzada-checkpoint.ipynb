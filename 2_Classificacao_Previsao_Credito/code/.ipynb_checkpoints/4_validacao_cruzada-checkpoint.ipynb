{
 "cells": [
  {
   "cell_type": "markdown",
   "id": "ce51929b",
   "metadata": {},
   "source": [
    "## Validação cruzada: múltliplos treinamentos e testes"
   ]
  },
  {
   "cell_type": "markdown",
   "id": "d5c8b08a",
   "metadata": {},
   "source": [
    "### ETAPA 1: Implementacão da validação cruzada\n",
    "\n",
    "Após fazer o tunning dos modelos (script Tunning) e descobrirmos os melhores valores de parâmetros para cada um deles, irei realizar a validação cruzada usando esses melhores modelos. A validação cruzada cria diferentes combinações dos dados para compor múltiplas bases de treino e teste, realizando essas etapas diversas vezes para um mesmo algoritmo.  Isso ajuda a diminui as chances de termos algum efeito aleatório indesejado quando realizamos apenas um treino/teste. E também permite que façamos uma análise estatística mais rigorosa para decidir se um modelo performa melhor que o outro, baseado em testes de hipótese com as médias das métricas de performance obtidas nos repetidos treinos e testes.\n",
    "\n",
    "Para cada modelo irei fazer 30 iterações, e a cada iteração dividiremos aleatoriamente a base de dados  em 10 partes:  9 para treino e 1 para teste (parâmetro \"n_splits\" do objeto K-fold ). A cada nova iteração setamos um valor diferente para a semente que gera o sorteio da divisão da base através do parâmetro \"random_state\". Assim garantimos novas combinações dos subcobjuntos de treino e teste a cada rodada. \n",
    "\n",
    "No fim devemos ter 30 listas (referentes ao número de iterações do laço for) com 10 valores da métrica de desempenho (acurácia) avaliada para cada modelo (10 diferentes combinações das bases treino e teste). E então iremos sumarizar esses 10 resultados em uma média aritmética para realizar a análise dos resultados na próxima etapa através de testes de hipóteses. Assim ganharemos mais confiança sobre quais modelos desempenham melhor. Vamos começar: \n",
    "\n",
    "\n",
    "___\n",
    "\n"
   ]
  },
  {
   "cell_type": "code",
   "execution_count": 1,
   "id": "19e62357",
   "metadata": {},
   "outputs": [
    {
     "name": "stdout",
     "output_type": "stream",
     "text": [
      "Once deleted, variables cannot be recovered. Proceed (y/[n])? y\n"
     ]
    }
   ],
   "source": [
    "%reset"
   ]
  },
  {
   "cell_type": "code",
   "execution_count": 2,
   "id": "3327fa58",
   "metadata": {},
   "outputs": [],
   "source": [
    "import pandas as pd\n",
    "import numpy as np\n",
    "import pickle as pickle\n",
    "import seaborn as sns\n",
    "from sklearn.model_selection import cross_val_score, KFold\n",
    "from sklearn.naive_bayes import GaussianNB\n",
    "from sklearn.tree import DecisionTreeClassifier\n",
    "from sklearn.ensemble import RandomForestClassifier\n",
    "from sklearn.neighbors import KNeighborsClassifier\n",
    "from sklearn.linear_model import LogisticRegression\n",
    "from scipy.stats import shapiro\n",
    "from scipy.stats import f_oneway\n",
    "from statsmodels.stats.multicomp import MultiComparison\n",
    "import warnings"
   ]
  },
  {
   "cell_type": "code",
   "execution_count": 3,
   "id": "8ee451b0",
   "metadata": {},
   "outputs": [],
   "source": [
    "# Variáveis globais:\n",
    "n_iterations = 30\n",
    "n_splits = 10"
   ]
  },
  {
   "cell_type": "markdown",
   "id": "1e08e76b",
   "metadata": {},
   "source": [
    "Antes disso: concatenar as bases que estão salvas separadamente em treino e teste:"
   ]
  },
  {
   "cell_type": "code",
   "execution_count": 4,
   "id": "76e26041",
   "metadata": {},
   "outputs": [
    {
     "data": {
      "text/plain": [
       "((2000, 3), (2000,))"
      ]
     },
     "execution_count": 4,
     "metadata": {},
     "output_type": "execute_result"
    }
   ],
   "source": [
    "with open(\"../data/credit.pkl\", \"rb\") as f:\n",
    "    X_credit_train, y_credit_train, X_credit_test, y_credit_test = pickle.load(f)\n",
    "    \n",
    "X_credit = np.concatenate((X_credit_train, X_credit_test), axis=0)\n",
    "y_credit = np.concatenate((y_credit_train,y_credit_test),axis=0)\n",
    "X_credit.shape, y_credit.shape"
   ]
  },
  {
   "cell_type": "markdown",
   "id": "ae08ee2e",
   "metadata": {},
   "source": [
    "E declarar a função que retorna as médias dos resultados de cada modelo, para reaproveitarmos o código com os diferentes algoritmos:"
   ]
  },
  {
   "cell_type": "code",
   "execution_count": 5,
   "id": "567af6a8",
   "metadata": {},
   "outputs": [],
   "source": [
    "def returnCrossValidationResults(model, result_list):\n",
    "    for i in range(n_iterations):\n",
    "        kfold = KFold(n_splits=n_splits, shuffle=True, random_state=i)\n",
    "        scores = cross_val_score(model, X_credit, y_credit, cv=kfold)\n",
    "        result_list.append(round(scores.mean(),4))"
   ]
  },
  {
   "cell_type": "markdown",
   "id": "a3fb0eb1",
   "metadata": {},
   "source": [
    "### Naive-Bayes"
   ]
  },
  {
   "cell_type": "code",
   "execution_count": 6,
   "id": "af834a83",
   "metadata": {},
   "outputs": [],
   "source": [
    "results_naive_bayes = []\n",
    "model_naive_bayes = GaussianNB()\n",
    "returnCrossValidationResults(model_naive_bayes, results_naive_bayes)"
   ]
  },
  {
   "cell_type": "markdown",
   "id": "00214dbf",
   "metadata": {},
   "source": [
    "### Árvore de Decisão"
   ]
  },
  {
   "cell_type": "code",
   "execution_count": 7,
   "id": "f255d874",
   "metadata": {},
   "outputs": [],
   "source": [
    "results_tree = []\n",
    "model_tree = DecisionTreeClassifier(criterion='entropy', min_samples_leaf=1, min_samples_split=5, splitter='best')\n",
    "returnCrossValidationResults(model_tree, results_tree)"
   ]
  },
  {
   "cell_type": "markdown",
   "id": "596e984a",
   "metadata": {},
   "source": [
    "### Random Forest\n"
   ]
  },
  {
   "cell_type": "code",
   "execution_count": 8,
   "id": "fbcb8ad2",
   "metadata": {},
   "outputs": [],
   "source": [
    "results_random_forest = []\n",
    "model_random_forest = RandomForestClassifier(criterion = 'entropy', min_samples_leaf = 1, min_samples_split=5, n_estimators = 10)\n",
    "returnCrossValidationResults(model_random_forest, results_random_forest)"
   ]
  },
  {
   "cell_type": "markdown",
   "id": "75a9d60f",
   "metadata": {},
   "source": [
    "### KNN"
   ]
  },
  {
   "cell_type": "code",
   "execution_count": 9,
   "id": "15a7c31c",
   "metadata": {},
   "outputs": [],
   "source": [
    "results_knn = []\n",
    "model_knn = KNeighborsClassifier(n_neighbors=5, p=1)\n",
    "returnCrossValidationResults(model_knn, results_knn)"
   ]
  },
  {
   "cell_type": "markdown",
   "id": "956ce7cf",
   "metadata": {},
   "source": [
    "### Regressão Logística\n"
   ]
  },
  {
   "cell_type": "code",
   "execution_count": 10,
   "id": "af966e64",
   "metadata": {},
   "outputs": [],
   "source": [
    "results_log_reg = []\n",
    "model_log_reg = LogisticRegression(C = 1.0, solver = 'lbfgs', tol = 0.0001)\n",
    "returnCrossValidationResults(model_log_reg, results_log_reg)"
   ]
  },
  {
   "cell_type": "markdown",
   "id": "32929c44",
   "metadata": {},
   "source": [
    "----"
   ]
  },
  {
   "cell_type": "markdown",
   "id": "b82cd533",
   "metadata": {},
   "source": [
    "### ETAPA 2: Análise dos resultados"
   ]
  },
  {
   "cell_type": "markdown",
   "id": "714ebff7",
   "metadata": {},
   "source": [
    "Primeiro, vamos consolidar os resultados em um dataframe para facilitar a manipulação e visualização:"
   ]
  },
  {
   "cell_type": "code",
   "execution_count": 11,
   "id": "96a067f2",
   "metadata": {},
   "outputs": [],
   "source": [
    "results = pd.DataFrame({\n",
    "    \"naive-bayes\": results_naive_bayes,\n",
    "    \"tree_decision\": results_tree,\n",
    "    \"random_forest\": results_random_forest,\n",
    "    \"knn\": results_knn,\n",
    "    \"regression_log\": results_log_reg\n",
    "})"
   ]
  },
  {
   "cell_type": "code",
   "execution_count": 12,
   "id": "71b5d033",
   "metadata": {},
   "outputs": [
    {
     "data": {
      "text/html": [
       "<div>\n",
       "<style scoped>\n",
       "    .dataframe tbody tr th:only-of-type {\n",
       "        vertical-align: middle;\n",
       "    }\n",
       "\n",
       "    .dataframe tbody tr th {\n",
       "        vertical-align: top;\n",
       "    }\n",
       "\n",
       "    .dataframe thead th {\n",
       "        text-align: right;\n",
       "    }\n",
       "</style>\n",
       "<table border=\"1\" class=\"dataframe\">\n",
       "  <thead>\n",
       "    <tr style=\"text-align: right;\">\n",
       "      <th></th>\n",
       "      <th>naive-bayes</th>\n",
       "      <th>tree_decision</th>\n",
       "      <th>random_forest</th>\n",
       "      <th>knn</th>\n",
       "      <th>regression_log</th>\n",
       "    </tr>\n",
       "  </thead>\n",
       "  <tbody>\n",
       "    <tr>\n",
       "      <th>count</th>\n",
       "      <td>30.000000</td>\n",
       "      <td>30.000000</td>\n",
       "      <td>30.000000</td>\n",
       "      <td>30.000000</td>\n",
       "      <td>30.000000</td>\n",
       "    </tr>\n",
       "    <tr>\n",
       "      <th>mean</th>\n",
       "      <td>0.925333</td>\n",
       "      <td>0.988133</td>\n",
       "      <td>0.983200</td>\n",
       "      <td>0.979517</td>\n",
       "      <td>0.946950</td>\n",
       "    </tr>\n",
       "    <tr>\n",
       "      <th>std</th>\n",
       "      <td>0.000922</td>\n",
       "      <td>0.001548</td>\n",
       "      <td>0.002003</td>\n",
       "      <td>0.001653</td>\n",
       "      <td>0.000941</td>\n",
       "    </tr>\n",
       "    <tr>\n",
       "      <th>min</th>\n",
       "      <td>0.922500</td>\n",
       "      <td>0.984500</td>\n",
       "      <td>0.979500</td>\n",
       "      <td>0.975500</td>\n",
       "      <td>0.945000</td>\n",
       "    </tr>\n",
       "    <tr>\n",
       "      <th>25%</th>\n",
       "      <td>0.925000</td>\n",
       "      <td>0.987125</td>\n",
       "      <td>0.982000</td>\n",
       "      <td>0.978500</td>\n",
       "      <td>0.946500</td>\n",
       "    </tr>\n",
       "    <tr>\n",
       "      <th>50%</th>\n",
       "      <td>0.925500</td>\n",
       "      <td>0.988250</td>\n",
       "      <td>0.983000</td>\n",
       "      <td>0.979500</td>\n",
       "      <td>0.947000</td>\n",
       "    </tr>\n",
       "    <tr>\n",
       "      <th>75%</th>\n",
       "      <td>0.926000</td>\n",
       "      <td>0.989000</td>\n",
       "      <td>0.984500</td>\n",
       "      <td>0.980500</td>\n",
       "      <td>0.947500</td>\n",
       "    </tr>\n",
       "    <tr>\n",
       "      <th>max</th>\n",
       "      <td>0.927000</td>\n",
       "      <td>0.991000</td>\n",
       "      <td>0.987000</td>\n",
       "      <td>0.982500</td>\n",
       "      <td>0.949000</td>\n",
       "    </tr>\n",
       "  </tbody>\n",
       "</table>\n",
       "</div>"
      ],
      "text/plain": [
       "       naive-bayes  tree_decision  random_forest        knn  regression_log\n",
       "count    30.000000      30.000000      30.000000  30.000000       30.000000\n",
       "mean      0.925333       0.988133       0.983200   0.979517        0.946950\n",
       "std       0.000922       0.001548       0.002003   0.001653        0.000941\n",
       "min       0.922500       0.984500       0.979500   0.975500        0.945000\n",
       "25%       0.925000       0.987125       0.982000   0.978500        0.946500\n",
       "50%       0.925500       0.988250       0.983000   0.979500        0.947000\n",
       "75%       0.926000       0.989000       0.984500   0.980500        0.947500\n",
       "max       0.927000       0.991000       0.987000   0.982500        0.949000"
      ]
     },
     "execution_count": 12,
     "metadata": {},
     "output_type": "execute_result"
    }
   ],
   "source": [
    "results.describe()"
   ]
  },
  {
   "cell_type": "code",
   "execution_count": 13,
   "id": "ddec7c66",
   "metadata": {},
   "outputs": [
    {
     "data": {
      "text/plain": [
       "naive-bayes       0.925333\n",
       "tree_decision     0.988133\n",
       "random_forest     0.983200\n",
       "knn               0.979517\n",
       "regression_log    0.946950\n",
       "dtype: float64"
      ]
     },
     "execution_count": 13,
     "metadata": {},
     "output_type": "execute_result"
    }
   ],
   "source": [
    "results.mean()"
   ]
  },
  {
   "cell_type": "markdown",
   "id": "16656c5b",
   "metadata": {},
   "source": [
    "Aparentemente o algoritmo de árvore de decisão foi o melhor (maior média de acurácia). Porém, esse resultado pode ter sido obtido por acaso. O que faremos agora é aplicar um teste de hipóteses baseado na média (teste paramétrico) para checar se os resultados dos modelos diferem estatisticamente entre si. Ou seja, para avaliar se um modelo é efetivamente melhor ou pior do que outro através de múltiplos experimentos.\n",
    "\n",
    "Antes de prosseguir com a análise dos resultados, há um porém: os testes são baseados na média das métricas, e por isso é necessário validar a premissa de que os dados apresentam distribuição normal (hipótese nula do teste de normalidade). Para isso é possível usar o teste de Shapiro-Wilks (https://en.wikipedia.org/wiki/Shapiro%E2%80%93Wilk_test). \n",
    "\n",
    "Assumindo um nível de significância de 5%, para valores de p > 0.05  aceitamos a hipótese nula. Ou seja, assumo que distribuição dos dados é normal e que posso prosseguir com a aplicação dos testes de média na análise dos resultados. \n",
    "\n",
    "\n",
    "Vamos checar a premissa da normalidade então:"
   ]
  },
  {
   "cell_type": "code",
   "execution_count": 14,
   "id": "289df0ce",
   "metadata": {},
   "outputs": [
    {
     "data": {
      "text/plain": [
       "(0.02320495992898941,\n",
       " 0.5915992856025696,\n",
       " 0.7082595229148865,\n",
       " 0.8722361326217651,\n",
       " 0.3575483560562134)"
      ]
     },
     "execution_count": 14,
     "metadata": {},
     "output_type": "execute_result"
    }
   ],
   "source": [
    "shapiro(results_naive_bayes)[1], shapiro(results_tree)[1], shapiro(results_random_forest)[1], shapiro(results_knn)[1], shapiro(results_log_reg)[1]"
   ]
  },
  {
   "cell_type": "markdown",
   "id": "5720a56d",
   "metadata": {},
   "source": [
    "Vemos que apenas os resultados do modelo de regressão logística não são normais. \n",
    "\n",
    "Vamos checar a distribuição dos dados também de forma visual, através de um gráfico:"
   ]
  },
  {
   "cell_type": "code",
   "execution_count": 15,
   "id": "8014136e",
   "metadata": {},
   "outputs": [
    {
     "data": {
      "text/plain": [
       "<seaborn.axisgrid.FacetGrid at 0x7fe02b686220>"
      ]
     },
     "execution_count": 15,
     "metadata": {},
     "output_type": "execute_result"
    },
    {
     "data": {
      "image/png": "[encoded data removed]",
      "text/plain": [
       "<Figure size 360x360 with 1 Axes>"
      ]
     },
     "metadata": {
      "needs_background": "light"
     },
     "output_type": "display_data"
    },
    {
     "data": {
      "image/png": "[encoded data removed]",
      "text/plain": [
       "<Figure size 360x360 with 1 Axes>"
      ]
     },
     "metadata": {
      "needs_background": "light"
     },
     "output_type": "display_data"
    },
    {
     "data": {
      "image/png": "[encoded data removed]",
      "text/plain": [
       "<Figure size 360x360 with 1 Axes>"
      ]
     },
     "metadata": {
      "needs_background": "light"
     },
     "output_type": "display_data"
    },
    {
     "data": {
      "image/png": "[encoded data removed]",
      "text/plain": [
       "<Figure size 360x360 with 1 Axes>"
      ]
     },
     "metadata": {
      "needs_background": "light"
     },
     "output_type": "display_data"
    },
    {
     "data": {
      "image/png": "[encoded data removed]",
      "text/plain": [
       "<Figure size 360x360 with 1 Axes>"
      ]
     },
     "metadata": {
      "needs_background": "light"
     },
     "output_type": "display_data"
    }
   ],
   "source": [
    "sns.displot(results_naive_bayes, kind='kde').set(title='Naive-Bayes')\n",
    "sns.displot(results_tree, kind='kde').set(title='Decision Tree')\n",
    "sns.displot(results_random_forest, kind='kde').set(title='Random Forest')\n",
    "sns.displot(results_knn, kind='kde').set(title='KNN')\n",
    "sns.displot(results_log_reg, kind='kde').set(title='Logistic Regression')"
   ]
  },
  {
   "cell_type": "markdown",
   "id": "e304b198",
   "metadata": {},
   "source": [
    "Agora, realizando o teste de média entre os resultados: vamos utilizar a ANOVA, uma análise que serve para comparar a variação de uma métrica quantitativa (acurácia dos modelos) entre 3 ou mais grupos (os algoritmos). Considerarei a hipótese nula (H0) aquela que diz que os modelos são iguais e também o nível de significância de 5%, como no teste de normalidade:"
   ]
  },
  {
   "cell_type": "code",
   "execution_count": 16,
   "id": "2b40fd70",
   "metadata": {},
   "outputs": [
    {
     "name": "stdout",
     "output_type": "stream",
     "text": [
      "H0 rejeitada. Resultados são diferentes.\n"
     ]
    }
   ],
   "source": [
    "alpha = 0.05\n",
    "_, p = f_oneway(results_naive_bayes,results_tree, results_random_forest, results_knn, results_log_reg)\n",
    "print (\"H0 rejeitada. Resultados são diferentes.\" if p < alpha else \"H0 aceita. Resultados são iguais.\")"
   ]
  },
  {
   "cell_type": "markdown",
   "id": "49e1961f",
   "metadata": {},
   "source": [
    "Agora que já sabemos que os resultados são estatisticamente diferentes, precisamos investigar quais pares de resultados diferem entre si. Assim podemos descobrir, por exemplo, se os resultados do algoritmo de Árvore de Decisão (maior média de acurácia) diferem estatisticamente dos resultados do segundo colocado, o algoritmo Random Forest. Para isso podemos usar a análise de Tukey como teste a posteriori:"
   ]
  },
  {
   "cell_type": "code",
   "execution_count": 17,
   "id": "202f01f7",
   "metadata": {},
   "outputs": [],
   "source": [
    "# consolidando base de dados para o teste:\n",
    "all_results = np.concatenate([results_naive_bayes,results_tree, results_random_forest, results_knn, results_log_reg])\n",
    "results_df = pd.DataFrame({'accuracy': all_results, 'model': np.array(0)})\n",
    "results_df.loc[0:29,\"model\"] = \"naive bayes\"\n",
    "results_df.loc[30:59,\"model\"] = \"tree_decision\"\n",
    "results_df.loc[60:89,\"model\"] = \"random_forest\"\n",
    "results_df.loc[90: 119,\"model\"] = \"knn\"\n",
    "results_df.loc[120: 149,\"model\"] = \"log regression\""
   ]
  },
  {
   "cell_type": "code",
   "execution_count": 18,
   "id": "78b5f49d",
   "metadata": {},
   "outputs": [
    {
     "data": {
      "text/html": [
       "<div>\n",
       "<style scoped>\n",
       "    .dataframe tbody tr th:only-of-type {\n",
       "        vertical-align: middle;\n",
       "    }\n",
       "\n",
       "    .dataframe tbody tr th {\n",
       "        vertical-align: top;\n",
       "    }\n",
       "\n",
       "    .dataframe thead th {\n",
       "        text-align: right;\n",
       "    }\n",
       "</style>\n",
       "<table border=\"1\" class=\"dataframe\">\n",
       "  <thead>\n",
       "    <tr style=\"text-align: right;\">\n",
       "      <th></th>\n",
       "      <th>accuracy</th>\n",
       "      <th>model</th>\n",
       "    </tr>\n",
       "  </thead>\n",
       "  <tbody>\n",
       "    <tr>\n",
       "      <th>0</th>\n",
       "      <td>0.9260</td>\n",
       "      <td>naive bayes</td>\n",
       "    </tr>\n",
       "    <tr>\n",
       "      <th>1</th>\n",
       "      <td>0.9255</td>\n",
       "      <td>naive bayes</td>\n",
       "    </tr>\n",
       "    <tr>\n",
       "      <th>2</th>\n",
       "      <td>0.9270</td>\n",
       "      <td>naive bayes</td>\n",
       "    </tr>\n",
       "    <tr>\n",
       "      <th>3</th>\n",
       "      <td>0.9260</td>\n",
       "      <td>naive bayes</td>\n",
       "    </tr>\n",
       "    <tr>\n",
       "      <th>4</th>\n",
       "      <td>0.9225</td>\n",
       "      <td>naive bayes</td>\n",
       "    </tr>\n",
       "  </tbody>\n",
       "</table>\n",
       "</div>"
      ],
      "text/plain": [
       "   accuracy        model\n",
       "0    0.9260  naive bayes\n",
       "1    0.9255  naive bayes\n",
       "2    0.9270  naive bayes\n",
       "3    0.9260  naive bayes\n",
       "4    0.9225  naive bayes"
      ]
     },
     "execution_count": 18,
     "metadata": {},
     "output_type": "execute_result"
    }
   ],
   "source": [
    "results_df.head()"
   ]
  },
  {
   "cell_type": "code",
   "execution_count": 19,
   "id": "522aff6a",
   "metadata": {},
   "outputs": [
    {
     "data": {
      "text/plain": [
       "random_forest     30\n",
       "knn               30\n",
       "naive bayes       30\n",
       "tree_decision     30\n",
       "log regression    30\n",
       "Name: model, dtype: int64"
      ]
     },
     "execution_count": 19,
     "metadata": {},
     "output_type": "execute_result"
    }
   ],
   "source": [
    "results_df[\"model\"].value_counts()"
   ]
  },
  {
   "cell_type": "markdown",
   "id": "df017299",
   "metadata": {},
   "source": [
    "Agora sim, realizando o teste de Tukey:"
   ]
  },
  {
   "cell_type": "code",
   "execution_count": 20,
   "id": "319c1d8b",
   "metadata": {},
   "outputs": [
    {
     "name": "stdout",
     "output_type": "stream",
     "text": [
      "        Multiple Comparison of Means - Tukey HSD, FWER=0.05        \n",
      "===================================================================\n",
      "    group1         group2     meandiff p-adj  lower   upper  reject\n",
      "-------------------------------------------------------------------\n",
      "           knn log regression  -0.0326 0.001 -0.0336 -0.0315   True\n",
      "           knn    naive bayes  -0.0542 0.001 -0.0552 -0.0531   True\n",
      "           knn  random_forest   0.0037 0.001  0.0026  0.0047   True\n",
      "           knn  tree_decision   0.0086 0.001  0.0076  0.0097   True\n",
      "log regression    naive bayes  -0.0216 0.001 -0.0227 -0.0206   True\n",
      "log regression  random_forest   0.0363 0.001  0.0352  0.0373   True\n",
      "log regression  tree_decision   0.0412 0.001  0.0401  0.0422   True\n",
      "   naive bayes  random_forest   0.0579 0.001  0.0568  0.0589   True\n",
      "   naive bayes  tree_decision   0.0628 0.001  0.0617  0.0639   True\n",
      " random_forest  tree_decision   0.0049 0.001  0.0039   0.006   True\n",
      "-------------------------------------------------------------------\n"
     ]
    }
   ],
   "source": [
    "multi_comparasion_obj = MultiComparison(results_df[\"accuracy\"], results_df[\"model\"])\n",
    "tukey_test_result = multi_comparasion_obj.tukeyhsd()\n",
    "print(tukey_test_result)"
   ]
  },
  {
   "cell_type": "markdown",
   "id": "693e1812",
   "metadata": {},
   "source": [
    "Vemos pelo teste que todos os pares de grupos/algoritmos diferem entre si em relação aos valores de acurácia (p-value < 0.05). Vamos checar o rank da média dessa métrica dos algoritmos:"
   ]
  },
  {
   "cell_type": "code",
   "execution_count": 21,
   "id": "eb865e32",
   "metadata": {},
   "outputs": [
    {
     "data": {
      "text/plain": [
       "tree_decision     0.988133\n",
       "random_forest     0.983200\n",
       "knn               0.979517\n",
       "regression_log    0.946950\n",
       "naive-bayes       0.925333\n",
       "dtype: float64"
      ]
     },
     "execution_count": 21,
     "metadata": {},
     "output_type": "execute_result"
    }
   ],
   "source": [
    "results.mean().sort_values(ascending=False)"
   ]
  },
  {
   "cell_type": "markdown",
   "id": "eb1877b6",
   "metadata": {},
   "source": [
    "De forma mais visual:"
   ]
  },
  {
   "cell_type": "code",
   "execution_count": 22,
   "id": "c4c1421d",
   "metadata": {},
   "outputs": [
    {
     "data": {
      "image/png": "[encoded data removed]",
      "text/plain": [
       "<Figure size 720x432 with 1 Axes>"
      ]
     },
     "metadata": {
      "needs_background": "light"
     },
     "output_type": "display_data"
    }
   ],
   "source": [
    "warnings.filterwarnings('ignore')\n",
    "tukey_test_result.plot_simultaneous(comparison_name=\"tree_decision\");"
   ]
  },
  {
   "cell_type": "markdown",
   "id": "90cce5b1",
   "metadata": {},
   "source": [
    "Dessa forma podemos concluir que os algoritmos tiveram desempenhos diferentes e que o modelo \"Tree Decision\" teve a maior acurácia, em média, quando comparado com os outros. Portanto, se eu precisasse colocar algum desses modelos em produção para que uma empresa (como um banco) possa prever o pagamento de empréstimos pelos clientes, esse seria o modelo escolhido por mim!"
   ]
  }
 ],
 "metadata": {
  "kernelspec": {
   "display_name": "Python 3",
   "language": "python",
   "name": "python3"
  },
  "language_info": {
   "codemirror_mode": {
    "name": "ipython",
    "version": 3
   },
   "file_extension": ".py",
   "mimetype": "text/x-python",
   "name": "python",
   "nbconvert_exporter": "python",
   "pygments_lexer": "ipython3",
   "version": "3.8.8"
  }
 },
 "nbformat": 4,
 "nbformat_minor": 5
}
