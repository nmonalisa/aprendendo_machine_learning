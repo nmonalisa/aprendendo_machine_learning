{
 "cells": [
  {
   "cell_type": "code",
   "execution_count": null,
   "id": "07d6ac0c",
   "metadata": {},
   "outputs": [],
   "source": [
    "import pandas as pd\n",
    "import numpy as np\n",
    "from sklearn.naive_bayes import GaussianNB"
   ]
  },
  {
   "cell_type": "markdown",
   "id": "2789452f",
   "metadata": {},
   "source": [
    "### Modelo Naive Bayes\n",
    "\n",
    "Abordagem probabilística. Explicar!Vantagens e desvantagens. Quando usar. como interpretar o resultado (notas evernote)"
   ]
  },
  {
   "cell_type": "markdown",
   "id": "3a9be09d",
   "metadata": {},
   "source": [
    "#### Base Crédito"
   ]
  },
  {
   "cell_type": "code",
   "execution_count": 16,
   "id": "2c642e7b",
   "metadata": {},
   "outputs": [],
   "source": [
    "#importar bases de treino e teste\n",
    "with open(\"../Bases de Dados/credit.pkl\", \"rb\") as f:\n",
    "    X_credit_train, y_credit_train, X_credit_test, y_credit_test = pickle.load(f)"
   ]
  },
  {
   "cell_type": "code",
   "execution_count": 17,
   "id": "27a0d2cc",
   "metadata": {},
   "outputs": [
    {
     "data": {
      "text/plain": [
       "((500, 3), (500,))"
      ]
     },
     "execution_count": 17,
     "metadata": {},
     "output_type": "execute_result"
    }
   ],
   "source": [
    "X_credit_test.shape, y_credit_test.shape"
   ]
  },
  {
   "cell_type": "code",
   "execution_count": 18,
   "id": "8ff4c7ee",
   "metadata": {},
   "outputs": [
    {
     "data": {
      "text/plain": [
       "((1500, 3), (1500,))"
      ]
     },
     "execution_count": 18,
     "metadata": {},
     "output_type": "execute_result"
    }
   ],
   "source": [
    "X_credit_train.shape, y_credit_train.shape"
   ]
  },
  {
   "cell_type": "code",
   "execution_count": 20,
   "id": "e17c6ae7",
   "metadata": {},
   "outputs": [],
   "source": [
    "#instanciando o modelo e fazendo as previsoes com a base teste:\n",
    "naive_credit_data = GaussianNB()\n",
    "naive_credit_data.fit(X_credit_train, y_credit_train)\n",
    "predict = naive_credit_data.predict(X_credit_test)"
   ]
  },
  {
   "cell_type": "code",
   "execution_count": 29,
   "id": "174b1b7e",
   "metadata": {},
   "outputs": [
    {
     "data": {
      "text/plain": [
       "0.938"
      ]
     },
     "execution_count": 29,
     "metadata": {},
     "output_type": "execute_result"
    }
   ],
   "source": [
    "#comparando as previsoes com os valores observados\n",
    "from sklearn.metrics import accuracy_score, confusion_matrix, classification_report\n",
    "accuracy_score(y_credit_test,predict) #93% de acerto"
   ]
  },
  {
   "cell_type": "code",
   "execution_count": 23,
   "id": "abf16558",
   "metadata": {},
   "outputs": [
    {
     "data": {
      "text/plain": [
       "array([[428,   8],\n",
       "       [ 23,  41]])"
      ]
     },
     "execution_count": 23,
     "metadata": {},
     "output_type": "execute_result"
    }
   ],
   "source": [
    "#matriz de confusão - explicaR\n",
    "##00 - positivos verdadeiros\n",
    "##01 - falsos positivos\n",
    "##10 - falsos negativos\n",
    "##11 - negativos verdadeiros\n",
    "confusion_matrix(y_credit_test,predict)"
   ]
  },
  {
   "cell_type": "code",
   "execution_count": 24,
   "id": "89bc7da5",
   "metadata": {},
   "outputs": [],
   "source": [
    "#Outra matriz de confusão mais visual\n",
    "from yellowbrick.classifier import ConfusionMatrix"
   ]
  },
  {
   "cell_type": "code",
   "execution_count": 25,
   "id": "f3dc9cd4",
   "metadata": {},
   "outputs": [
    {
     "data": {
      "text/plain": [
       "0.938"
      ]
     },
     "execution_count": 25,
     "metadata": {},
     "output_type": "execute_result"
    },
    {
     "data": {
      "image/png": "[encoded data removed]",
      "text/plain": [
       "<Figure size 576x396 with 1 Axes>"
      ]
     },
     "metadata": {},
     "output_type": "display_data"
    }
   ],
   "source": [
    "#passamos o algoritmo como parâmetro\n",
    "cm = ConfusionMatrix(naive_credit_data)\n",
    "#retreinamos o modelo\n",
    "cm.fit(X_credit_train, y_credit_train)\n",
    "# prevendo a base de teste e comparando com y observado\n",
    "cm.score(X_credit_test,y_credit_test)\n"
   ]
  },
  {
   "cell_type": "code",
   "execution_count": 30,
   "id": "c7e01955",
   "metadata": {},
   "outputs": [
    {
     "name": "stdout",
     "output_type": "stream",
     "text": [
      "              precision    recall  f1-score   support\n",
      "\n",
      "           0       0.95      0.98      0.97       436\n",
      "           1       0.84      0.64      0.73        64\n",
      "\n",
      "    accuracy                           0.94       500\n",
      "   macro avg       0.89      0.81      0.85       500\n",
      "weighted avg       0.93      0.94      0.93       500\n",
      "\n"
     ]
    }
   ],
   "source": [
    "#report detalhado dos resultados\n",
    "print(classification_report(y_credit_test,predict))"
   ]
  },
  {
   "cell_type": "markdown",
   "id": "a2e9c325",
   "metadata": {},
   "source": [
    "Precisão do modelo: o algoritmo acerta 95% das vezes quando ele diz que o cliente pagará a dívida, e 84% quando diz que não."
   ]
  },
  {
   "cell_type": "markdown",
   "id": "1ea35500",
   "metadata": {},
   "source": [
    "#### Base Censo"
   ]
  },
  {
   "cell_type": "code",
   "execution_count": 32,
   "id": "d1a6e7f7",
   "metadata": {},
   "outputs": [],
   "source": [
    "#importar bases de treino e teste\n",
    "with open(\"../Bases de Dados/census.pkl\", \"rb\") as f:\n",
    "    X_census_train, y_census_train, X_census_test, y_census_test = pickle.load(f)"
   ]
  },
  {
   "cell_type": "code",
   "execution_count": 33,
   "id": "d9f1be65",
   "metadata": {},
   "outputs": [
    {
     "data": {
      "text/plain": [
       "0.4767656090071648"
      ]
     },
     "execution_count": 33,
     "metadata": {},
     "output_type": "execute_result"
    }
   ],
   "source": [
    "#instanciando o modelo e fazendo as previsoes com a base teste:\n",
    "naive_census_data = GaussianNB()\n",
    "naive_census_data.fit(X_census_train, y_census_train)\n",
    "predict = naive_census_data.predict(X_census_test)\n",
    "accuracy_score(y_census_test,predict)"
   ]
  },
  {
   "cell_type": "code",
   "execution_count": 35,
   "id": "6b8ba59e",
   "metadata": {},
   "outputs": [
    {
     "data": {
      "text/plain": [
       "0.4767656090071648"
      ]
     },
     "execution_count": 35,
     "metadata": {},
     "output_type": "execute_result"
    },
    {
     "data": {
      "image/png": "[encoded data removed]",
      "text/plain": [
       "<Figure size 576x396 with 1 Axes>"
      ]
     },
     "metadata": {},
     "output_type": "display_data"
    }
   ],
   "source": [
    "#resultados detalhados\n",
    "cm = ConfusionMatrix(naive_census_data)\n",
    "cm.fit(X_census_train, y_census_train)\n",
    "cm.score(X_census_test,y_census_test)"
   ]
  },
  {
   "cell_type": "code",
   "execution_count": 36,
   "id": "3b7b14a1",
   "metadata": {
    "scrolled": true
   },
   "outputs": [
    {
     "name": "stdout",
     "output_type": "stream",
     "text": [
      "              precision    recall  f1-score   support\n",
      "\n",
      "       <=50K       0.97      0.32      0.48      3693\n",
      "        >50K       0.31      0.97      0.48      1192\n",
      "\n",
      "    accuracy                           0.48      4885\n",
      "   macro avg       0.64      0.64      0.48      4885\n",
      "weighted avg       0.81      0.48      0.48      4885\n",
      "\n"
     ]
    }
   ],
   "source": [
    "print(classification_report(y_census_test,predict))"
   ]
  },
  {
   "cell_type": "code",
   "execution_count": 76,
   "id": "f6e8aba7",
   "metadata": {},
   "outputs": [
    {
     "data": {
      "text/plain": [
       "Series([], Name: income, dtype: object)"
      ]
     },
     "execution_count": 76,
     "metadata": {},
     "output_type": "execute_result"
    }
   ],
   "source": [
    "y_census_train[y_census_train == \"<=50K\"]"
   ]
  },
  {
   "cell_type": "markdown",
   "id": "9f9efe2d",
   "metadata": {},
   "source": [
    "Conclusao: para a base censo, o algoritmo tem um desempenho muito melhor para a classe > 50k. Talvez haja algum desbalanceamento. O professor cita que sem fazer a padronizacao dos dados tambem melhora a performance. Teria que experimentar"
   ]
  }
 ],
 "metadata": {
  "kernelspec": {
   "display_name": "Python 3",
   "language": "python",
   "name": "python3"
  },
  "language_info": {
   "codemirror_mode": {
    "name": "ipython",
    "version": 3
   },
   "file_extension": ".py",
   "mimetype": "text/x-python",
   "name": "python",
   "nbconvert_exporter": "python",
   "pygments_lexer": "ipython3",
   "version": "3.8.8"
  }
 },
 "nbformat": 4,
 "nbformat_minor": 5
}
