{
 "cells": [
  {
   "cell_type": "code",
   "execution_count": 1,
   "id": "88107529",
   "metadata": {},
   "outputs": [],
   "source": [
    "#Importar bibliotecas"
   ]
  },
  {
   "cell_type": "code",
   "execution_count": 2,
   "id": "f7d2b8b6",
   "metadata": {},
   "outputs": [
    {
     "name": "stdout",
     "output_type": "stream",
     "text": [
      "Requirement already satisfied: plotly in /Users/monalisa/opt/anaconda3/lib/python3.8/site-packages (5.4.0)\n",
      "Requirement already satisfied: six in /Users/monalisa/opt/anaconda3/lib/python3.8/site-packages (from plotly) (1.15.0)\n",
      "Requirement already satisfied: tenacity>=6.2.0 in /Users/monalisa/opt/anaconda3/lib/python3.8/site-packages (from plotly) (8.0.1)\n"
     ]
    }
   ],
   "source": [
    "!pip install plotly --upgrade"
   ]
  },
  {
   "cell_type": "code",
   "execution_count": 3,
   "id": "baca127e",
   "metadata": {},
   "outputs": [],
   "source": [
    "import pandas as pd\n",
    "import numpy as np\n",
    "import seaborn as sns\n",
    "import matplotlib as plt\n",
    "import plotly.express as px"
   ]
  },
  {
   "cell_type": "markdown",
   "id": "01eceda8",
   "metadata": {},
   "source": [
    "Primeiro trabalhando com a base de dados de crédito (dados historicos sobre empréstimos concedidos a pessoas físicas). Explicar as colunas. E qual é a variavel target (defaulted/devedor: 0 pagou o emprestimo, 1 nao pagou)"
   ]
  },
  {
   "cell_type": "markdown",
   "id": "df8e07a7",
   "metadata": {},
   "source": [
    "Depois fazer uma analise exploratoria descente pra consolidar o projeto, com os graficos bonitinhos. Acho que vale a pena ate colocar em um arquivo separado. Aqui vamos focar somente na limpeza da base e em rodar os algoritmos"
   ]
  },
  {
   "cell_type": "markdown",
   "id": "f8ec5a89",
   "metadata": {},
   "source": [
    "## Base1 - Crédito: prevendo o pagamento de dívida"
   ]
  },
  {
   "cell_type": "code",
   "execution_count": 4,
   "id": "b1a77255",
   "metadata": {},
   "outputs": [
    {
     "data": {
      "text/html": [
       "<div>\n",
       "<style scoped>\n",
       "    .dataframe tbody tr th:only-of-type {\n",
       "        vertical-align: middle;\n",
       "    }\n",
       "\n",
       "    .dataframe tbody tr th {\n",
       "        vertical-align: top;\n",
       "    }\n",
       "\n",
       "    .dataframe thead th {\n",
       "        text-align: right;\n",
       "    }\n",
       "</style>\n",
       "<table border=\"1\" class=\"dataframe\">\n",
       "  <thead>\n",
       "    <tr style=\"text-align: right;\">\n",
       "      <th></th>\n",
       "      <th>clientid</th>\n",
       "      <th>income</th>\n",
       "      <th>age</th>\n",
       "      <th>loan</th>\n",
       "      <th>default</th>\n",
       "    </tr>\n",
       "  </thead>\n",
       "  <tbody>\n",
       "    <tr>\n",
       "      <th>0</th>\n",
       "      <td>1</td>\n",
       "      <td>66155.925095</td>\n",
       "      <td>59.017015</td>\n",
       "      <td>8106.532131</td>\n",
       "      <td>0</td>\n",
       "    </tr>\n",
       "  </tbody>\n",
       "</table>\n",
       "</div>"
      ],
      "text/plain": [
       "   clientid        income        age         loan  default\n",
       "0         1  66155.925095  59.017015  8106.532131        0"
      ]
     },
     "execution_count": 4,
     "metadata": {},
     "output_type": "execute_result"
    }
   ],
   "source": [
    "#importando a base de dados\n",
    "df = pd.read_csv(\"../Bases de Dados/credit_data.csv\")\n",
    "base_credit = df\n",
    "base_credit.head(1)"
   ]
  },
  {
   "cell_type": "markdown",
   "id": "298ffe2a",
   "metadata": {},
   "source": [
    "### Pré-processamento dos dados\n",
    "\n",
    "Problemas identificados: <br>\n",
    "1.Age tem menos registros do que as demais colunas <br>\n",
    "2.idades negativas"
   ]
  },
  {
   "cell_type": "code",
   "execution_count": 5,
   "id": "46a66802",
   "metadata": {},
   "outputs": [
    {
     "data": {
      "text/plain": [
       "(array([0, 1]), array([1717,  283]))"
      ]
     },
     "execution_count": 5,
     "metadata": {},
     "output_type": "execute_result"
    }
   ],
   "source": [
    "# Investigar contagem da variavel de interesse\n",
    "np.unique(base_credit[\"default\"], return_counts=True)"
   ]
  },
  {
   "cell_type": "code",
   "execution_count": 6,
   "id": "63f6f997",
   "metadata": {},
   "outputs": [
    {
     "data": {
      "text/html": [
       "<div>\n",
       "<style scoped>\n",
       "    .dataframe tbody tr th:only-of-type {\n",
       "        vertical-align: middle;\n",
       "    }\n",
       "\n",
       "    .dataframe tbody tr th {\n",
       "        vertical-align: top;\n",
       "    }\n",
       "\n",
       "    .dataframe thead th {\n",
       "        text-align: right;\n",
       "    }\n",
       "</style>\n",
       "<table border=\"1\" class=\"dataframe\">\n",
       "  <thead>\n",
       "    <tr style=\"text-align: right;\">\n",
       "      <th></th>\n",
       "      <th>clientid</th>\n",
       "      <th>income</th>\n",
       "      <th>age</th>\n",
       "      <th>loan</th>\n",
       "      <th>default</th>\n",
       "    </tr>\n",
       "  </thead>\n",
       "  <tbody>\n",
       "    <tr>\n",
       "      <th>15</th>\n",
       "      <td>16</td>\n",
       "      <td>50501.726689</td>\n",
       "      <td>40.9277</td>\n",
       "      <td>3977.287432</td>\n",
       "      <td>0</td>\n",
       "    </tr>\n",
       "    <tr>\n",
       "      <th>21</th>\n",
       "      <td>22</td>\n",
       "      <td>32197.620701</td>\n",
       "      <td>40.9277</td>\n",
       "      <td>4244.057136</td>\n",
       "      <td>0</td>\n",
       "    </tr>\n",
       "    <tr>\n",
       "      <th>26</th>\n",
       "      <td>27</td>\n",
       "      <td>63287.038908</td>\n",
       "      <td>40.9277</td>\n",
       "      <td>9595.286289</td>\n",
       "      <td>0</td>\n",
       "    </tr>\n",
       "  </tbody>\n",
       "</table>\n",
       "</div>"
      ],
      "text/plain": [
       "    clientid        income      age         loan  default\n",
       "15        16  50501.726689  40.9277  3977.287432        0\n",
       "21        22  32197.620701  40.9277  4244.057136        0\n",
       "26        27  63287.038908  40.9277  9595.286289        0"
      ]
     },
     "execution_count": 6,
     "metadata": {},
     "output_type": "execute_result"
    }
   ],
   "source": [
    "#eliminando idades negativas\n",
    "index = base_credit[base_credit[\"age\"] < 0].index\n",
    "mean = base_credit[base_credit[\"age\"] > 0][\"age\"].mean()\n",
    "base_credit.loc[index,\"age\"] = mean\n",
    "base_credit.loc[index,:]"
   ]
  },
  {
   "cell_type": "code",
   "execution_count": 7,
   "id": "d9a8d2d1",
   "metadata": {},
   "outputs": [
    {
     "data": {
      "text/html": [
       "<div>\n",
       "<style scoped>\n",
       "    .dataframe tbody tr th:only-of-type {\n",
       "        vertical-align: middle;\n",
       "    }\n",
       "\n",
       "    .dataframe tbody tr th {\n",
       "        vertical-align: top;\n",
       "    }\n",
       "\n",
       "    .dataframe thead th {\n",
       "        text-align: right;\n",
       "    }\n",
       "</style>\n",
       "<table border=\"1\" class=\"dataframe\">\n",
       "  <thead>\n",
       "    <tr style=\"text-align: right;\">\n",
       "      <th></th>\n",
       "      <th>clientid</th>\n",
       "      <th>income</th>\n",
       "      <th>age</th>\n",
       "      <th>loan</th>\n",
       "      <th>default</th>\n",
       "    </tr>\n",
       "  </thead>\n",
       "  <tbody>\n",
       "  </tbody>\n",
       "</table>\n",
       "</div>"
      ],
      "text/plain": [
       "Empty DataFrame\n",
       "Columns: [clientid, income, age, loan, default]\n",
       "Index: []"
      ]
     },
     "execution_count": 7,
     "metadata": {},
     "output_type": "execute_result"
    }
   ],
   "source": [
    "base_credit[base_credit[\"age\"] < 0]"
   ]
  },
  {
   "cell_type": "code",
   "execution_count": 8,
   "id": "154dee47",
   "metadata": {},
   "outputs": [
    {
     "data": {
      "text/plain": [
       "clientid    0\n",
       "income      0\n",
       "age         3\n",
       "loan        0\n",
       "default     0\n",
       "dtype: int64"
      ]
     },
     "execution_count": 8,
     "metadata": {},
     "output_type": "execute_result"
    }
   ],
   "source": [
    "#eliminando valores nulos\n",
    "base_credit.isnull().sum()"
   ]
  },
  {
   "cell_type": "code",
   "execution_count": 9,
   "id": "68f487ee",
   "metadata": {},
   "outputs": [
    {
     "data": {
      "text/html": [
       "<div>\n",
       "<style scoped>\n",
       "    .dataframe tbody tr th:only-of-type {\n",
       "        vertical-align: middle;\n",
       "    }\n",
       "\n",
       "    .dataframe tbody tr th {\n",
       "        vertical-align: top;\n",
       "    }\n",
       "\n",
       "    .dataframe thead th {\n",
       "        text-align: right;\n",
       "    }\n",
       "</style>\n",
       "<table border=\"1\" class=\"dataframe\">\n",
       "  <thead>\n",
       "    <tr style=\"text-align: right;\">\n",
       "      <th></th>\n",
       "      <th>clientid</th>\n",
       "      <th>income</th>\n",
       "      <th>age</th>\n",
       "      <th>loan</th>\n",
       "      <th>default</th>\n",
       "    </tr>\n",
       "  </thead>\n",
       "  <tbody>\n",
       "    <tr>\n",
       "      <th>28</th>\n",
       "      <td>29</td>\n",
       "      <td>59417.805406</td>\n",
       "      <td>40.9277</td>\n",
       "      <td>2082.625938</td>\n",
       "      <td>0</td>\n",
       "    </tr>\n",
       "    <tr>\n",
       "      <th>30</th>\n",
       "      <td>31</td>\n",
       "      <td>48528.852796</td>\n",
       "      <td>40.9277</td>\n",
       "      <td>6155.784670</td>\n",
       "      <td>0</td>\n",
       "    </tr>\n",
       "    <tr>\n",
       "      <th>31</th>\n",
       "      <td>32</td>\n",
       "      <td>23526.302555</td>\n",
       "      <td>40.9277</td>\n",
       "      <td>2862.010139</td>\n",
       "      <td>0</td>\n",
       "    </tr>\n",
       "  </tbody>\n",
       "</table>\n",
       "</div>"
      ],
      "text/plain": [
       "    clientid        income      age         loan  default\n",
       "28        29  59417.805406  40.9277  2082.625938        0\n",
       "30        31  48528.852796  40.9277  6155.784670        0\n",
       "31        32  23526.302555  40.9277  2862.010139        0"
      ]
     },
     "execution_count": 9,
     "metadata": {},
     "output_type": "execute_result"
    }
   ],
   "source": [
    "index = base_credit[base_credit[\"age\"].isnull()].index\n",
    "base_credit.fillna(mean,inplace=True)\n",
    "base_credit.loc[index,:]"
   ]
  },
  {
   "cell_type": "markdown",
   "id": "c73321fd",
   "metadata": {},
   "source": [
    "### Separando as variáveis: explicativas x resposta"
   ]
  },
  {
   "cell_type": "code",
   "execution_count": 10,
   "id": "865e7fd9",
   "metadata": {},
   "outputs": [],
   "source": [
    "X_credit = base_credit.iloc[:,1:4].values\n",
    "y_credit = base_credit.iloc[:,-1].values"
   ]
  },
  {
   "cell_type": "markdown",
   "id": "e595a5d7",
   "metadata": {},
   "source": [
    "## Escalonamento dos dados"
   ]
  },
  {
   "cell_type": "markdown",
   "id": "e9b19133",
   "metadata": {},
   "source": [
    "Explicar a diferenca entre padronizacao e normalizacao, talvez mostrar as formulas (aula21). No caso, vamos trabalhar com a padronizacao. Precisa olhar o minimo e o maximo nso so dentro de uma mesma variavel, mas tambem entre. A escala dos numeros pode gerar problemas em algoritmos baseados em distancia como Knn e tambem alguns outros podem dar pesos diferentes pra valores muito altos ou baixos"
   ]
  },
  {
   "cell_type": "code",
   "execution_count": 11,
   "id": "758fb575",
   "metadata": {},
   "outputs": [],
   "source": [
    "def showMinMax():\n",
    "    print(f'Mínimo income: {X_credit[:,0].min()} , Máximo income: {X_credit[:,0].max()}')\n",
    "    print(f'Mínimo age: {X_credit[:,1].min()} , Máximo age: {X_credit[:,1].max()}')\n",
    "    print(f'Mínimo loan: {X_credit[:,2].min()} , Máximo loan: {X_credit[:,2].max()}')"
   ]
  },
  {
   "cell_type": "code",
   "execution_count": 12,
   "id": "52501873",
   "metadata": {},
   "outputs": [
    {
     "name": "stdout",
     "output_type": "stream",
     "text": [
      "Mínimo income: 20014.4894700497 , Máximo income: 63.971795841120205\n",
      "Mínimo age: 18.055188510566897 , Máximo age: 63.971795841120205\n",
      "Mínimo loan: 1.37762959325451 , Máximo loan: 13766.0512393337\n"
     ]
    }
   ],
   "source": [
    "showMinMax()"
   ]
  },
  {
   "cell_type": "code",
   "execution_count": 13,
   "id": "fc30a8f7",
   "metadata": {},
   "outputs": [],
   "source": [
    "from sklearn.preprocessing import StandardScaler\n",
    "scaler_credit = StandardScaler() #instanciando classe\n",
    "X_credit = scaler_credit.fit_transform(X_credit)"
   ]
  },
  {
   "cell_type": "code",
   "execution_count": 14,
   "id": "f9b866ce",
   "metadata": {},
   "outputs": [
    {
     "name": "stdout",
     "output_type": "stream",
     "text": [
      "Mínimo income: -1.7676158019964077 , Máximo income: 1.739366520151568\n",
      "Mínimo age: -1.7264154144794286 , Máximo age: 1.739366520151568\n",
      "Mínimo loan: -1.4592791099462408 , Máximo loan: 3.0616609141708273\n"
     ]
    }
   ],
   "source": [
    "showMinMax()"
   ]
  },
  {
   "cell_type": "markdown",
   "id": "10939385",
   "metadata": {},
   "source": [
    "### Base de dados de treino vs teste"
   ]
  },
  {
   "cell_type": "code",
   "execution_count": 28,
   "id": "35421128",
   "metadata": {},
   "outputs": [],
   "source": [
    "from sklearn.model_selection import train_test_split\n",
    "X_credit_train, X_credit_teste,y_credit_train, y_credit_teste = train_test_split(X_credit, \n",
    "                                                                                 y_credit,\n",
    "                                                                                test_size=0.25,\n",
    "                                                                                random_state=0)"
   ]
  },
  {
   "cell_type": "code",
   "execution_count": 32,
   "id": "3910b9ff",
   "metadata": {},
   "outputs": [
    {
     "data": {
      "text/plain": [
       "((1500, 3), (500, 3))"
      ]
     },
     "execution_count": 32,
     "metadata": {},
     "output_type": "execute_result"
    }
   ],
   "source": [
    "X_credit_train.shape, X_credit_teste.shape"
   ]
  },
  {
   "cell_type": "code",
   "execution_count": 33,
   "id": "f13b9e14",
   "metadata": {},
   "outputs": [
    {
     "data": {
      "text/plain": [
       "((1500,), (500,))"
      ]
     },
     "execution_count": 33,
     "metadata": {},
     "output_type": "execute_result"
    }
   ],
   "source": [
    "y_credit_train.shape, y_credit_teste.shape"
   ]
  },
  {
   "cell_type": "markdown",
   "id": "7297cde2",
   "metadata": {},
   "source": [
    "### Salvar as bases divididas em disco"
   ]
  },
  {
   "cell_type": "code",
   "execution_count": 40,
   "id": "e47cb568",
   "metadata": {},
   "outputs": [],
   "source": [
    "import pickle"
   ]
  },
  {
   "cell_type": "code",
   "execution_count": 43,
   "id": "918a747f",
   "metadata": {},
   "outputs": [],
   "source": [
    "with open(\"../Bases de Dados/credit.pkl\", mode=\"wb\") as f:\n",
    "    pickle.dump([X_credit_train, y_credit_train, X_credit_teste, y_credit_teste], f)"
   ]
  },
  {
   "cell_type": "markdown",
   "id": "9a05e840",
   "metadata": {},
   "source": [
    "## Base 2 - Censo: prevendo a renda"
   ]
  },
  {
   "cell_type": "code",
   "execution_count": 15,
   "id": "9000a57c",
   "metadata": {},
   "outputs": [
    {
     "data": {
      "text/html": [
       "<div>\n",
       "<style scoped>\n",
       "    .dataframe tbody tr th:only-of-type {\n",
       "        vertical-align: middle;\n",
       "    }\n",
       "\n",
       "    .dataframe tbody tr th {\n",
       "        vertical-align: top;\n",
       "    }\n",
       "\n",
       "    .dataframe thead th {\n",
       "        text-align: right;\n",
       "    }\n",
       "</style>\n",
       "<table border=\"1\" class=\"dataframe\">\n",
       "  <thead>\n",
       "    <tr style=\"text-align: right;\">\n",
       "      <th></th>\n",
       "      <th>age</th>\n",
       "      <th>workclass</th>\n",
       "      <th>final-weight</th>\n",
       "      <th>education</th>\n",
       "      <th>education-num</th>\n",
       "      <th>marital-status</th>\n",
       "      <th>occupation</th>\n",
       "      <th>relationship</th>\n",
       "      <th>race</th>\n",
       "      <th>sex</th>\n",
       "      <th>capital-gain</th>\n",
       "      <th>capital-loos</th>\n",
       "      <th>hour-per-week</th>\n",
       "      <th>native-country</th>\n",
       "      <th>income</th>\n",
       "    </tr>\n",
       "  </thead>\n",
       "  <tbody>\n",
       "    <tr>\n",
       "      <th>0</th>\n",
       "      <td>39</td>\n",
       "      <td>State-gov</td>\n",
       "      <td>77516</td>\n",
       "      <td>Bachelors</td>\n",
       "      <td>13</td>\n",
       "      <td>Never-married</td>\n",
       "      <td>Adm-clerical</td>\n",
       "      <td>Not-in-family</td>\n",
       "      <td>White</td>\n",
       "      <td>Male</td>\n",
       "      <td>2174</td>\n",
       "      <td>0</td>\n",
       "      <td>40</td>\n",
       "      <td>United-States</td>\n",
       "      <td>&lt;=50K</td>\n",
       "    </tr>\n",
       "  </tbody>\n",
       "</table>\n",
       "</div>"
      ],
      "text/plain": [
       "   age   workclass  final-weight   education  education-num  marital-status  \\\n",
       "0   39   State-gov         77516   Bachelors             13   Never-married   \n",
       "\n",
       "      occupation    relationship    race    sex  capital-gain  capital-loos  \\\n",
       "0   Adm-clerical   Not-in-family   White   Male          2174             0   \n",
       "\n",
       "   hour-per-week  native-country  income  \n",
       "0             40   United-States   <=50K  "
      ]
     },
     "execution_count": 15,
     "metadata": {},
     "output_type": "execute_result"
    }
   ],
   "source": [
    "#importando a base de dados\n",
    "df = pd.read_csv(\"../Bases de Dados/census.csv\")\n",
    "base_census = df\n",
    "base_census.head(1)"
   ]
  },
  {
   "cell_type": "code",
   "execution_count": 16,
   "id": "4376b750",
   "metadata": {},
   "outputs": [
    {
     "data": {
      "text/plain": [
       "(array([' <=50K', ' >50K'], dtype=object), array([24720,  7841]))"
      ]
     },
     "execution_count": 16,
     "metadata": {},
     "output_type": "execute_result"
    }
   ],
   "source": [
    "#Checar balanceeamento das classes\n",
    "np.unique(base_census[\"income\"], return_counts=True)"
   ]
  },
  {
   "cell_type": "markdown",
   "id": "9dd08c2f",
   "metadata": {},
   "source": [
    "### Separando as variáveis: explicativas x resposta"
   ]
  },
  {
   "cell_type": "code",
   "execution_count": 17,
   "id": "21aa7cdc",
   "metadata": {},
   "outputs": [],
   "source": [
    "X_census = base_census.iloc[:,0:-1].values\n",
    "y_census = base_census.iloc[:,-1]"
   ]
  },
  {
   "cell_type": "markdown",
   "id": "2f2512d9",
   "metadata": {},
   "source": [
    "### Tratando as variáveis categóricas"
   ]
  },
  {
   "cell_type": "markdown",
   "id": "9db150e6",
   "metadata": {},
   "source": [
    "Passo1: Labeel Encoder <br>\n",
    "Transformar cada categoria em uma variável quantitativa (inteiro), associando números a cada valor único que ocorre nesta classe. E entao, substituir as strings pelo número correspondente no conjunto de dados original"
   ]
  },
  {
   "cell_type": "code",
   "execution_count": 18,
   "id": "f9233770",
   "metadata": {},
   "outputs": [],
   "source": [
    "from sklearn.preprocessing import LabelEncoder\n",
    "encoder = LabelEncoder()"
   ]
  },
  {
   "cell_type": "code",
   "execution_count": 19,
   "id": "ae524947",
   "metadata": {},
   "outputs": [],
   "source": [
    "#depois transformar em um laco\n",
    "X_census[:,1] = encoder.fit_transform(X_census[:,1])\n",
    "X_census[:,3] = encoder.fit_transform(X_census[:,3])\n",
    "X_census[:,5] = encoder.fit_transform(X_census[:,5])\n",
    "X_census[:,6] = encoder.fit_transform(X_census[:,6])\n",
    "X_census[:,7] = encoder.fit_transform(X_census[:,7])\n",
    "X_census[:,8] = encoder.fit_transform(X_census[:,8])\n",
    "X_census[:,9] = encoder.fit_transform(X_census[:,9])\n",
    "X_census[:,13] = encoder.fit_transform(X_census[:,13])"
   ]
  },
  {
   "cell_type": "code",
   "execution_count": 20,
   "id": "4ec6056c",
   "metadata": {},
   "outputs": [
    {
     "data": {
      "text/plain": [
       "array([39, 7, 77516, 9, 13, 4, 1, 1, 4, 1, 2174, 0, 40, 39], dtype=object)"
      ]
     },
     "execution_count": 20,
     "metadata": {},
     "output_type": "execute_result"
    }
   ],
   "source": [
    "X_census[0]"
   ]
  },
  {
   "cell_type": "markdown",
   "id": "ff1fa814",
   "metadata": {},
   "source": [
    "Passo2: onehot encoding: cria uma coluna para cada número diferente atribuído a uma categoria única e assim elimina a possibilidade dos algoritmos darem pesos diferentes para elas."
   ]
  },
  {
   "cell_type": "code",
   "execution_count": 21,
   "id": "a8ba6806",
   "metadata": {},
   "outputs": [],
   "source": [
    "from sklearn.preprocessing import OneHotEncoder\n",
    "from sklearn.compose import ColumnTransformer"
   ]
  },
  {
   "cell_type": "code",
   "execution_count": 22,
   "id": "03847014",
   "metadata": {},
   "outputs": [],
   "source": [
    "lista_variaveis = [1,3,5,6,7,8,9,13]\n",
    "onehotencoding_census = ColumnTransformer(transformers=[(\"OneHot\",\n",
    "                                                        OneHotEncoder(),\n",
    "                                                         lista_variaveis\n",
    "                                                        )],\n",
    "                                                       remainder=\"passthrough\")\n"
   ]
  },
  {
   "cell_type": "code",
   "execution_count": 23,
   "id": "c3b01b0a",
   "metadata": {},
   "outputs": [],
   "source": [
    "X_census = onehotencoding_census.fit_transform(X_census).toarray()"
   ]
  },
  {
   "cell_type": "code",
   "execution_count": 24,
   "id": "3de912ab",
   "metadata": {},
   "outputs": [
    {
     "data": {
      "text/plain": [
       "(32561, 108)"
      ]
     },
     "execution_count": 24,
     "metadata": {},
     "output_type": "execute_result"
    }
   ],
   "source": [
    "X_census.shape"
   ]
  },
  {
   "cell_type": "code",
   "execution_count": 25,
   "id": "d7c6352b",
   "metadata": {},
   "outputs": [],
   "source": [
    "#escalonamento dos dados\n",
    "from sklearn.preprocessing import StandardScaler\n",
    "scaler_census = StandardScaler() #instanciando classe\n",
    "X_census = scaler_census.fit_transform(X_census)"
   ]
  },
  {
   "cell_type": "markdown",
   "id": "13979910",
   "metadata": {},
   "source": [
    "### Avaliação do algoritmo: separando base de teste e treino. \n",
    "\n",
    "Aumentamos a base de treino porque esse conjunto de dados é maior do que a base de crédito"
   ]
  },
  {
   "cell_type": "code",
   "execution_count": 35,
   "id": "523b5eca",
   "metadata": {},
   "outputs": [],
   "source": [
    "from sklearn.model_selection import train_test_split\n",
    "X_census_train, X_census_test,y_census_train, y_census_test = train_test_split(X_census, \n",
    "                                                                                 y_census,\n",
    "                                                                                test_size=0.15,\n",
    "                                                                                random_state=0)"
   ]
  },
  {
   "cell_type": "code",
   "execution_count": 37,
   "id": "182f4836",
   "metadata": {},
   "outputs": [
    {
     "data": {
      "text/plain": [
       "((27676, 108), (4885, 108))"
      ]
     },
     "execution_count": 37,
     "metadata": {},
     "output_type": "execute_result"
    }
   ],
   "source": [
    "X_census_train.shape, X_census_test.shape"
   ]
  },
  {
   "cell_type": "code",
   "execution_count": 39,
   "id": "f9a5b0ff",
   "metadata": {},
   "outputs": [
    {
     "data": {
      "text/plain": [
       "((27676,), (4885,))"
      ]
     },
     "execution_count": 39,
     "metadata": {},
     "output_type": "execute_result"
    }
   ],
   "source": [
    "y_census_train.shape, y_census_test.shape"
   ]
  },
  {
   "cell_type": "code",
   "execution_count": 44,
   "id": "514d4628",
   "metadata": {},
   "outputs": [],
   "source": [
    "# salvando variaveis em disco\n",
    "with open(\"../Bases de Dados/census.pkl\", mode=\"wb\") as f:\n",
    "    pickle.dump([X_census_train, y_census_train, X_census_test, y_census_test], f)"
   ]
  }
 ],
 "metadata": {
  "kernelspec": {
   "display_name": "Python 3",
   "language": "python",
   "name": "python3"
  },
  "language_info": {
   "codemirror_mode": {
    "name": "ipython",
    "version": 3
   },
   "file_extension": ".py",
   "mimetype": "text/x-python",
   "name": "python",
   "nbconvert_exporter": "python",
   "pygments_lexer": "ipython3",
   "version": "3.8.8"
  }
 },
 "nbformat": 4,
 "nbformat_minor": 5
}
